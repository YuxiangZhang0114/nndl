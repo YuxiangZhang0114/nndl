{
 "cells": [
  {
   "cell_type": "code",
   "execution_count": 16,
   "metadata": {},
   "outputs": [],
   "source": [
    "import torch\n",
    "from torch import nn\n",
    "import d2lzh_pytorch as d2l"
   ]
  },
  {
   "cell_type": "code",
   "execution_count": 19,
   "metadata": {},
   "outputs": [
    {
     "data": {
      "text/plain": [
       "tensor([[ 56.,  72.],\n",
       "        [104., 120.]])"
      ]
     },
     "execution_count": 19,
     "metadata": {},
     "output_type": "execute_result"
    }
   ],
   "source": [
    "def corr2d_multi_in(X, K):\n",
    "    res = d2l.corr2d(X[0, :, :], K[0, :, :])\n",
    "    for i in range(1,X.shape[0]):\n",
    "        res += d2l.corr2d(X[i,: ,: ],K[i, :, :])\n",
    "    return res\n",
    "\n",
    "X = torch.tensor([[[0, 1, 2], \n",
    "                   [3, 4, 5], \n",
    "                   [6, 7, 8]],\n",
    " [[1, 2, 3], \n",
    "  [4, 5, 6], \n",
    "  [7, 8, 9]]])\n",
    "\n",
    "K = torch.tensor([[[0, 1], [2, 3]], [[1, 2], [3, 4]]])\n",
    "\n",
    "corr2d_multi_in(X, K)"
   ]
  },
  {
   "cell_type": "code",
   "execution_count": 20,
   "metadata": {},
   "outputs": [],
   "source": [
    "def corr2d_multi_in_out(X, K):\n",
    "    return torch.stack([corr2d_multi_in(X, k) for k in K])"
   ]
  },
  {
   "cell_type": "code",
   "execution_count": 21,
   "metadata": {},
   "outputs": [
    {
     "data": {
      "text/plain": [
       "torch.Size([3, 2, 2, 2])"
      ]
     },
     "execution_count": 21,
     "metadata": {},
     "output_type": "execute_result"
    }
   ],
   "source": [
    "K = torch.stack([K,K+1,K+2])\n",
    "K.shape"
   ]
  },
  {
   "cell_type": "code",
   "execution_count": 22,
   "metadata": {},
   "outputs": [
    {
     "data": {
      "text/plain": [
       "tensor([[[ 56.,  72.],\n",
       "         [104., 120.]],\n",
       "\n",
       "        [[ 76., 100.],\n",
       "         [148., 172.]],\n",
       "\n",
       "        [[ 96., 128.],\n",
       "         [192., 224.]]])"
      ]
     },
     "execution_count": 22,
     "metadata": {},
     "output_type": "execute_result"
    }
   ],
   "source": [
    "corr2d_multi_in_out(X, K)"
   ]
  },
  {
   "cell_type": "code",
   "execution_count": 32,
   "metadata": {},
   "outputs": [],
   "source": [
    "def corr2d_multi_in_out_1x1(X,K):\n",
    "    c_i, h, w = X.shape\n",
    "    c_o = K.shape[0]\n",
    "    X = X.view(c_i, h * w)\n",
    "    K = K.view(c_o,c_i)\n",
    "    Y = torch.mm(K, X)\n",
    "    return Y.view(c_o, h, w)"
   ]
  },
  {
   "cell_type": "code",
   "execution_count": 34,
   "metadata": {},
   "outputs": [
    {
     "name": "stdout",
     "output_type": "stream",
     "text": [
      "tensor([[[1.7760, 1.3442, 1.3708],\n",
      "         [1.4386, 1.1136, 1.2912],\n",
      "         [1.0717, 1.2396, 0.2213]],\n",
      "\n",
      "        [[0.9926, 0.8415, 0.9452],\n",
      "         [0.8826, 0.8930, 0.7351],\n",
      "         [0.5341, 0.8290, 0.1655]]])\n",
      "tensor([[[1.7760, 1.3442, 1.3708],\n",
      "         [1.4386, 1.1136, 1.2912],\n",
      "         [1.0717, 1.2396, 0.2213]],\n",
      "\n",
      "        [[0.9926, 0.8415, 0.9452],\n",
      "         [0.8826, 0.8930, 0.7351],\n",
      "         [0.5341, 0.8290, 0.1655]]])\n"
     ]
    }
   ],
   "source": [
    "X = torch.rand(3, 3, 3) \n",
    "K = torch.rand(2, 3, 1, 1)\n",
    "Y1 = corr2d_multi_in_out_1x1(X, K)\n",
    "Y2 = corr2d_multi_in_out(X, K) \n",
    "(Y1 - Y2).norm().item() < 1e-6\n",
    "print(Y1)\n",
    "print(Y2)"
   ]
  },
  {
   "cell_type": "code",
   "execution_count": null,
   "metadata": {},
   "outputs": [],
   "source": []
  }
 ],
 "metadata": {
  "kernelspec": {
   "display_name": "Python 3",
   "language": "python",
   "name": "python3"
  },
  "language_info": {
   "codemirror_mode": {
    "name": "ipython",
    "version": 3
   },
   "file_extension": ".py",
   "mimetype": "text/x-python",
   "name": "python",
   "nbconvert_exporter": "python",
   "pygments_lexer": "ipython3",
   "version": "3.7.5"
  }
 },
 "nbformat": 4,
 "nbformat_minor": 2
}
