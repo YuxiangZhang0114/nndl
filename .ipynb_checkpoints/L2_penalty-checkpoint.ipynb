{
 "cells": [
  {
   "cell_type": "code",
   "execution_count": null,
   "metadata": {},
   "outputs": [],
   "source": [
    "%matplotlib\n",
    "import torch\n",
    "import torch.nn as nn\n",
    "import numpy as np\n",
    "import sys\n",
    "sys.path.append(\"..\")\n",
    "import d2lzh_pytorch as d2l\n",
    "\n",
    "n_train, n_test, num_inputs  = 10, 100 ,200\n",
    "true_w ,true_b = torch.ones(num_inputs,1)*0.01, 0.05\n",
    "\n",
    "features = torch.randn((n_train+n_test,num_inputs))\n",
    "labels = torch.matmul(features,true_w) + true_b\n",
    "labels += torch.tensor(np.random(0, 0.01, size=labels.size()),dtype=torch.float)\n",
    "train_features, test_feature = features[:n_train,:],features[n_train:,:]\n",
    "train_labels, test_labels = labels[:n_train], labels[n_train:,]\n",
    "\n"
   ]
  }
 ],
 "metadata": {
  "kernelspec": {
   "display_name": "Python 3",
   "language": "python",
   "name": "python3"
  },
  "language_info": {
   "codemirror_mode": {
    "name": "ipython",
    "version": 3
   },
   "file_extension": ".py",
   "mimetype": "text/x-python",
   "name": "python",
   "nbconvert_exporter": "python",
   "pygments_lexer": "ipython3",
   "version": "3.7.5"
  }
 },
 "nbformat": 4,
 "nbformat_minor": 2
}
